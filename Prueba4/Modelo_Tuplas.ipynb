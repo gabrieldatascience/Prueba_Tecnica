{
  "nbformat": 4,
  "nbformat_minor": 0,
  "metadata": {
    "colab": {
      "provenance": []
    },
    "kernelspec": {
      "name": "python3",
      "display_name": "Python 3"
    },
    "language_info": {
      "name": "python"
    }
  },
  "cells": [
    {
      "cell_type": "markdown",
      "source": [
        "#Modelo Tuplas"
      ],
      "metadata": {
        "id": "QJaJDiDzNCjn"
      }
    },
    {
      "cell_type": "code",
      "execution_count": null,
      "metadata": {
        "id": "4afAN3kANBD3"
      },
      "outputs": [],
      "source": [
        "import random\n",
        "\n",
        "relaciones = [\n",
        "    ('Principio de Contradicción', 'Sentencia 338/2018'),\n",
        "    ('Juez de Amparo', 'Tribunal Colegiado'),\n",
        "    ('Auto de Vinculación a Proceso', 'Juez de Control'),\n",
        "    ('Organo Jurisdiccional', 'Juez de Control'),\n",
        "    ('Juzgado de Control', 'Sentencia 338/2018'),\n",
        "    ('Juzgado de Distrito', 'Sentencia 338/2018'),\n",
        "    ('Norma Convencional que contempla justa indemnizacion', 'Sentencia 423/2019'),\n",
        "    ('Autoridad Jurisdiccional', 'Suprema Corte de Justicia de la Nación'),\n",
        "    ('Organo Jurisdiccional', 'Juez de Amparo'),\n",
        "    ('Norma Convencional que contempla justa indemnizacion', 'Artículo 63.1 Convención Americana sobre Derechos Humanos'),\n",
        "    ('Juez de Amparo', 'Juzgado de Distrito'),\n",
        "    ('Tribunal Colegiado', 'Sentencia 338/2018'),\n",
        "    ('Norma Convencional que contempla justa indemnizacion', 'Norma Convencional'),\n",
        "    ('Prisión Preventiva Oficiosa', 'Órgano Jurisdiccional'),\n",
        "    ('Autoridad Jurisdiccional', 'Órgano Jurisdiccional')\n",
        "]\n",
        "\n",
        "elemento1, elemento2 = random.sample(set([relacion[0] for relacion in relaciones]), 2)\n",
        "elementos_relacionados = []\n",
        "\n",
        "for relacion in relaciones:\n",
        "    if relacion[0] == elemento1 or relacion[0] == elemento2:\n",
        "        elementos_relacionados.append(relacion[1])\n",
        "    if relacion[1] == elemento1 or relacion[1] == elemento2:\n",
        "        elementos_relacionados.append(relacion[0])\n",
        "\n",
        "elemento3 = random.choice(elementos_relacionados)\n",
        "\n",
        "print(\"los elementos input \",\"(\",elemento1,\")\", \"(\",elemento2,\")\")\n",
        "print(\"los elementos output \",\"(\",elemento1,\")\",\"(\",elemento2,\")\",\"(\",elemento3,\")\")"
      ]
    }
  ]
}