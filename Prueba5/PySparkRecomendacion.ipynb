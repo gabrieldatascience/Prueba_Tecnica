{
  "nbformat": 4,
  "nbformat_minor": 0,
  "metadata": {
    "colab": {
      "provenance": []
    },
    "kernelspec": {
      "name": "python3",
      "display_name": "Python 3"
    },
    "language_info": {
      "name": "python"
    }
  },
  "cells": [
    {
      "cell_type": "markdown",
      "source": [
        "#PySpark sistema de recomendación de museos\n",
        "###Dataset: https://datos.gob.mx/busca/dataset/total-de-exposiciones-temporales-del-inba-en-el-ano-actual\n",
        "\n"
      ],
      "metadata": {
        "id": "NEuEW79BxA2j"
      }
    },
    {
      "cell_type": "code",
      "execution_count": null,
      "metadata": {
        "id": "WfSpO7Mhp2FF"
      },
      "outputs": [],
      "source": [
        "from pyspark.sql import SparkSession\n",
        "from pyspark.ml.recommendation import ALS\n",
        "from pyspark.ml.evaluation import RegressionEvaluator\n",
        "from pyspark.ml.feature import StringIndexer"
      ]
    },
    {
      "cell_type": "code",
      "source": [
        "spark = SparkSession.builder.appName(\"RecomendacionExposiciones\").getOrCreate()"
      ],
      "metadata": {
        "id": "w1ny3mp2p5Aa"
      },
      "execution_count": null,
      "outputs": []
    },
    {
      "cell_type": "code",
      "source": [
        "dataset_path = \"exposiciones.csv\"\n",
        "data = spark.read.csv(dataset_path, header=True, inferSchema=True)"
      ],
      "metadata": {
        "id": "2Fk0MsuNp8rp"
      },
      "execution_count": null,
      "outputs": []
    },
    {
      "cell_type": "code",
      "source": [
        "data = data.withColumn(\"Fecha inicio\", data[\"Fecha inicio\"].cast(\"date\"))\n",
        "data = data.withColumn(\"Fecha fin\", data[\"Fecha fin\"].cast(\"date\"))"
      ],
      "metadata": {
        "id": "dD4SxcMAp_1J"
      },
      "execution_count": null,
      "outputs": []
    },
    {
      "cell_type": "code",
      "source": [
        "exposiciones_cols = ['Exposiciones permanentes', 'Exposiciones temporales', 'Exposiciones itinerantes nacionales',\n",
        "                     'Exposiciones internacionales en México', 'Exposiciones nacionales en el extranjero',\n",
        "                     'Total de exposiciones', 'Total de asistentes']\n",
        "\n",
        "for col in exposiciones_cols:\n",
        "    data = data.withColumn(col, data[col].cast(\"double\"))"
      ],
      "metadata": {
        "id": "fuvNoKugqFDz"
      },
      "execution_count": null,
      "outputs": []
    },
    {
      "cell_type": "code",
      "source": [
        "indexer = StringIndexer(inputCols=['Museo'], outputCols=['MuseoIndex'])\n",
        "data_indexed = indexer.fit(data).transform(data)"
      ],
      "metadata": {
        "id": "krkkPdq2qI25"
      },
      "execution_count": null,
      "outputs": []
    },
    {
      "cell_type": "code",
      "source": [
        "(training, test) = data_indexed.randomSplit([0.8, 0.2])"
      ],
      "metadata": {
        "id": "C_eBixlqqLoI"
      },
      "execution_count": null,
      "outputs": []
    },
    {
      "cell_type": "code",
      "source": [
        "als = ALS(maxIter=5, regParam=0.01, userCol=\"MuseoIndex\", itemCol=\"MuseoIndex\", ratingCol=\"Total de asistentes\",\n",
        "          coldStartStrategy=\"drop\")\n",
        "model = als.fit(training)"
      ],
      "metadata": {
        "id": "-LfisdrEqPhS"
      },
      "execution_count": null,
      "outputs": []
    },
    {
      "cell_type": "code",
      "source": [
        "predictions = model.transform(test)"
      ],
      "metadata": {
        "id": "Ds8-az2eqVux"
      },
      "execution_count": null,
      "outputs": []
    },
    {
      "cell_type": "code",
      "source": [
        "evaluator = RegressionEvaluator(metricName=\"rmse\", labelCol=\"Total de asistentes\", predictionCol=\"prediction\")\n",
        "rmse = evaluator.evaluate(predictions)\n",
        "print(\"Root Mean Squared Error (RMSE) = \" + str(rmse))"
      ],
      "metadata": {
        "id": "TO42jr2gqWmx"
      },
      "execution_count": null,
      "outputs": []
    },
    {
      "cell_type": "code",
      "source": [
        "user_recs = model.recommendForAllUsers(5)"
      ],
      "metadata": {
        "id": "Figlmb7KqYt6"
      },
      "execution_count": null,
      "outputs": []
    }
  ]
}