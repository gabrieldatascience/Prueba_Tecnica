{
  "nbformat": 4,
  "nbformat_minor": 0,
  "metadata": {
    "colab": {
      "provenance": []
    },
    "kernelspec": {
      "name": "python3",
      "display_name": "Python 3"
    },
    "language_info": {
      "name": "python"
    }
  },
  "cells": [
    {
      "cell_type": "markdown",
      "source": [
        "#Modelo de Identificación\n",
        "###Utiliza delito y mes_hecho para el modelo\n",
        "###Dataset: https://datos.cdmx.gob.mx/dataset/carpetas-de-investigacion-fgj-de-la-ciudad-de-mexico"
      ],
      "metadata": {
        "id": "AIWZvvosuyKy"
      }
    },
    {
      "cell_type": "code",
      "source": [
        "import pandas as pd\n",
        "from sklearn.model_selection import train_test_split\n",
        "from sklearn.preprocessing import LabelEncoder\n",
        "from sklearn.tree import DecisionTreeClassifier\n",
        "from sklearn.metrics import accuracy_score, confusion_matrix\n",
        "import matplotlib.pyplot as plt"
      ],
      "metadata": {
        "id": "pk6q0-FbvUH9"
      },
      "execution_count": null,
      "outputs": []
    },
    {
      "cell_type": "code",
      "source": [
        "dataset_path = \"datos_delitos.csv\"\n",
        "data = pd.read_csv(dataset_path)\n",
        "\n",
        "# Explorar los datos\n",
        "print(data.head())"
      ],
      "metadata": {
        "id": "wM-crS9qvZWS"
      },
      "execution_count": null,
      "outputs": []
    },
    {
      "cell_type": "code",
      "source": [
        "# Eliminar columnas innecesarias o irrelevantes\n",
        "data = data.drop(['ao_hechos',\t'fecha_hechos',\t'hora_hechos',\t'ao_inicio',\t'mes_inicio',\t'fecha_inicio',\t'hora_inicio\n",
        "], axis=1)\n",
        "\n",
        "\n",
        "\n",
        "# Manejar valores faltantes o nulos\n",
        "data = data.dropna()\n",
        "\n",
        "# Convertir la variable objetivo en números usando LabelEncoder\n",
        "le = LabelEncoder()\n",
        "data['mes_hechos'] = le.fit_transform(data['mes_hechos'])\n",
        "\n",
        "# Separar características y variable objetivo\n",
        "X = data.drop('delito', axis=1)\n",
        "y = data['mes_hechos']\n",
        "\n",
        "# Dividir los datos en conjuntos de entrenamiento y prueba\n",
        "X_train, X_test, y_train, y_test = train_test_split(X, y, test_size=0.2, random_state=42)"
      ],
      "metadata": {
        "id": "XuL7VWG9veRz"
      },
      "execution_count": null,
      "outputs": []
    },
    {
      "cell_type": "code",
      "execution_count": null,
      "metadata": {
        "id": "_mQoBYpIuoSD"
      },
      "outputs": [],
      "source": [
        "# Crear un modelo de clasificación, como un árbol de decisión\n",
        "model = DecisionTreeClassifier()\n",
        "\n",
        "# Entrenar el modelo utilizando los datos de entrenamiento\n",
        "model.fit(X_train, y_train)"
      ]
    },
    {
      "cell_type": "code",
      "source": [
        "y_pred = model.predict(X_test)"
      ],
      "metadata": {
        "id": "vNkFzGQ9vp5C"
      },
      "execution_count": null,
      "outputs": []
    },
    {
      "cell_type": "code",
      "source": [
        "# Calcular la precisión del modelo\n",
        "accuracy = accuracy_score(y_test, y_pred)\n",
        "print(\"Precisión del modelo:\", accuracy)\n",
        "\n",
        "# Calcular y mostrar la matriz de confusión\n",
        "conf_matrix = confusion_matrix(y_test, y_pred)\n",
        "print(\"Matriz de confusión:\")\n",
        "print(conf_matrix)"
      ],
      "metadata": {
        "id": "JyjwofB6vsdD"
      },
      "execution_count": null,
      "outputs": []
    },
    {
      "cell_type": "code",
      "source": [
        "# Mostrar la matriz de confusión en forma de gráfico\n",
        "plt.imshow(conf_matrix, cmap='Blues')\n",
        "plt.title(\"Matriz de Confusión\")\n",
        "plt.colorbar()\n",
        "plt.xlabel(\"Clases Predichas\")\n",
        "plt.ylabel(\"Clases Verdaderas\")\n",
        "plt.show()"
      ],
      "metadata": {
        "id": "guY2wDNzvu6-"
      },
      "execution_count": null,
      "outputs": []
    }
  ]
}